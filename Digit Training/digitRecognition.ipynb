{
 "cells": [
  {
   "cell_type": "markdown",
   "id": "45a07c0a",
   "metadata": {},
   "source": [
    "## Import Required Libraries"
   ]
  },
  {
   "cell_type": "code",
   "execution_count": 1,
   "id": "5d769e75",
   "metadata": {},
   "outputs": [],
   "source": [
    "#Neural Network modules\n",
    "import tensorflow as tf\n",
    "from tensorflow.keras.models import Sequential\n",
    "from tensorflow.keras.layers import Dense, Dropout, Flatten, Conv2D, MaxPooling2D\n",
    "from tensorflow.keras.utils import to_categorical\n",
    "\n",
    "\n",
    "import numpy                    #Module for working with arrays\n",
    "import os                       #Standard module for interacting with OS\n",
    "import random                   #For shuffling images\n",
    "import cv2                      #Standard module in solving computer visions\n",
    "from scipy import ndimage       #Library for multidimensional image processing"
   ]
  },
  {
   "cell_type": "code",
   "execution_count": null,
   "id": "bf16589e",
   "metadata": {},
   "outputs": [],
   "source": []
  },
  {
   "cell_type": "markdown",
   "id": "c6590ae7",
   "metadata": {},
   "source": [
    "## Function to calculate the COM shift"
   ]
  },
  {
   "cell_type": "raw",
   "id": "c5060379",
   "metadata": {},
   "source": [
    "This function is used to centralize the image using its center of mass"
   ]
  },
  {
   "cell_type": "code",
   "execution_count": 2,
   "id": "ae0ae914",
   "metadata": {},
   "outputs": [],
   "source": [
    "def getBestShift(img):\n",
    "    cy,cx = ndimage.measurements.center_of_mass(img)\n",
    "    rows,cols = img.shape\n",
    "    shiftx = numpy.round(cols/2.0-cx).astype(int)\n",
    "    shifty = numpy.round(rows/2.0-cy).astype(int)\n",
    "    return shiftx,shifty"
   ]
  },
  {
   "cell_type": "code",
   "execution_count": null,
   "id": "b8d2b937",
   "metadata": {},
   "outputs": [],
   "source": []
  },
  {
   "cell_type": "markdown",
   "id": "3c3259ed",
   "metadata": {},
   "source": [
    "## Function to shift image"
   ]
  },
  {
   "cell_type": "raw",
   "id": "aa39c20c",
   "metadata": {},
   "source": [
    "This function is used to centralize the image according to its center of mass"
   ]
  },
  {
   "cell_type": "code",
   "execution_count": 3,
   "id": "f3a4440e",
   "metadata": {},
   "outputs": [],
   "source": [
    "def shift(img,sx,sy):\n",
    "    rows,cols = img.shape\n",
    "    M = numpy.float32([[1,0,sx],[0,1,sy]])\n",
    "    shifted = cv2.warpAffine(img,M,(cols,rows))\n",
    "    return shifted"
   ]
  },
  {
   "cell_type": "code",
   "execution_count": null,
   "id": "87bd8687",
   "metadata": {},
   "outputs": [],
   "source": []
  },
  {
   "cell_type": "markdown",
   "id": "6dbb9886",
   "metadata": {},
   "source": [
    "## Function to centralize image"
   ]
  },
  {
   "cell_type": "raw",
   "id": "a0e3d8be",
   "metadata": {},
   "source": [
    "This function will centralize the image according to its center of mass.Same has been implemented in sudokuSolver.\n",
    "Without this step, the accuracy drops from nearly 100% to 70-80%"
   ]
  },
  {
   "cell_type": "code",
   "execution_count": 4,
   "id": "dbad6a89",
   "metadata": {},
   "outputs": [],
   "source": [
    "def shiftCenterOfMass(img):\n",
    "    img = cv2.bitwise_not(img)\n",
    "    # Centralize the image according to center of mass\n",
    "    shiftx,shifty = getBestShift(img)\n",
    "    shifted = shift(img,shiftx,shifty)\n",
    "    img = shifted\n",
    "    img = cv2.bitwise_not(img)\n",
    "    return img"
   ]
  },
  {
   "cell_type": "code",
   "execution_count": null,
   "id": "568be278",
   "metadata": {},
   "outputs": [],
   "source": []
  },
  {
   "cell_type": "markdown",
   "id": "bd5a42d3",
   "metadata": {},
   "source": [
    "## Function to create training data"
   ]
  },
  {
   "cell_type": "raw",
   "id": "bee893ce",
   "metadata": {},
   "source": [
    "This function is used to read image traning data from the folders named 1, 2,..., 9 in the DigitImages directory"
   ]
  },
  {
   "cell_type": "code",
   "execution_count": 5,
   "id": "f284e608",
   "metadata": {},
   "outputs": [],
   "source": [
    "def createTrainingData():\n",
    "    for category in CATEGORIES:\n",
    "        path = os.path.join(DATADIR, category)\n",
    "        class_num = CATEGORIES.index(category)\n",
    "        for img in os.listdir(path):\n",
    "            img_array = cv2.imread(os.path.join(path,img), cv2.IMREAD_GRAYSCALE)\n",
    "            new_array = cv2.resize(img_array, (img_rows, img_cols))\n",
    "            new_array = shiftCenterOfMass(new_array)\n",
    "            training_data.append([new_array, class_num])"
   ]
  },
  {
   "cell_type": "code",
   "execution_count": null,
   "id": "92cb9163",
   "metadata": {},
   "outputs": [],
   "source": []
  },
  {
   "cell_type": "code",
   "execution_count": 6,
   "id": "3db02f01",
   "metadata": {},
   "outputs": [
    {
     "name": "stderr",
     "output_type": "stream",
     "text": [
      "C:\\Users\\Aman Yadav\\AppData\\Local\\Temp\\ipykernel_17540\\1076359088.py:2: DeprecationWarning: Please use `center_of_mass` from the `scipy.ndimage` namespace, the `scipy.ndimage.measurements` namespace is deprecated.\n",
      "  cy,cx = ndimage.measurements.center_of_mass(img)\n"
     ]
    },
    {
     "name": "stdout",
     "output_type": "stream",
     "text": [
      "Epoch 1/45\n",
      "4/4 [==============================] - 3s 313ms/step - loss: 2.1928 - accuracy: 0.1256 - val_loss: 2.1739 - val_accuracy: 0.1224\n",
      "Epoch 2/45\n",
      "4/4 [==============================] - 1s 176ms/step - loss: 2.1293 - accuracy: 0.1923 - val_loss: 2.1845 - val_accuracy: 0.0714\n",
      "Epoch 3/45\n",
      "4/4 [==============================] - 1s 254ms/step - loss: 2.0595 - accuracy: 0.2179 - val_loss: 2.1452 - val_accuracy: 0.1939\n",
      "Epoch 4/45\n",
      "4/4 [==============================] - 1s 192ms/step - loss: 1.9747 - accuracy: 0.3231 - val_loss: 2.0726 - val_accuracy: 0.2755\n",
      "Epoch 5/45\n",
      "4/4 [==============================] - 1s 167ms/step - loss: 1.9169 - accuracy: 0.3641 - val_loss: 2.0220 - val_accuracy: 0.2857\n",
      "Epoch 6/45\n",
      "4/4 [==============================] - 1s 168ms/step - loss: 1.7963 - accuracy: 0.4462 - val_loss: 1.9627 - val_accuracy: 0.3980\n",
      "Epoch 7/45\n",
      "4/4 [==============================] - 1s 186ms/step - loss: 1.7186 - accuracy: 0.4718 - val_loss: 1.8605 - val_accuracy: 0.4694\n",
      "Epoch 8/45\n",
      "4/4 [==============================] - 1s 172ms/step - loss: 1.6016 - accuracy: 0.5333 - val_loss: 1.8997 - val_accuracy: 0.3367\n",
      "Epoch 9/45\n",
      "4/4 [==============================] - 1s 156ms/step - loss: 1.5657 - accuracy: 0.4949 - val_loss: 1.8197 - val_accuracy: 0.4490\n",
      "Epoch 10/45\n",
      "4/4 [==============================] - 1s 157ms/step - loss: 1.4611 - accuracy: 0.6077 - val_loss: 1.7081 - val_accuracy: 0.5612\n",
      "Epoch 11/45\n",
      "4/4 [==============================] - 1s 169ms/step - loss: 1.3796 - accuracy: 0.5641 - val_loss: 1.6624 - val_accuracy: 0.5612\n",
      "Epoch 12/45\n",
      "4/4 [==============================] - 1s 167ms/step - loss: 1.2619 - accuracy: 0.6462 - val_loss: 1.6575 - val_accuracy: 0.5306\n",
      "Epoch 13/45\n",
      "4/4 [==============================] - 1s 173ms/step - loss: 1.1833 - accuracy: 0.6436 - val_loss: 1.4766 - val_accuracy: 0.6224\n",
      "Epoch 14/45\n",
      "4/4 [==============================] - 1s 198ms/step - loss: 1.1009 - accuracy: 0.6769 - val_loss: 1.3715 - val_accuracy: 0.6327\n",
      "Epoch 15/45\n",
      "4/4 [==============================] - 1s 216ms/step - loss: 1.0235 - accuracy: 0.6974 - val_loss: 1.3771 - val_accuracy: 0.5612\n",
      "Epoch 16/45\n",
      "4/4 [==============================] - 1s 194ms/step - loss: 0.9489 - accuracy: 0.7103 - val_loss: 1.2868 - val_accuracy: 0.6224\n",
      "Epoch 17/45\n",
      "4/4 [==============================] - 1s 189ms/step - loss: 0.8721 - accuracy: 0.7103 - val_loss: 1.2112 - val_accuracy: 0.6224\n",
      "Epoch 18/45\n",
      "4/4 [==============================] - 1s 187ms/step - loss: 0.7768 - accuracy: 0.7538 - val_loss: 1.1171 - val_accuracy: 0.6531\n",
      "Epoch 19/45\n",
      "4/4 [==============================] - 1s 219ms/step - loss: 0.7408 - accuracy: 0.7769 - val_loss: 1.1042 - val_accuracy: 0.6837\n",
      "Epoch 20/45\n",
      "4/4 [==============================] - 1s 219ms/step - loss: 0.6335 - accuracy: 0.8308 - val_loss: 0.9542 - val_accuracy: 0.6735\n",
      "Epoch 21/45\n",
      "4/4 [==============================] - 1s 198ms/step - loss: 0.6029 - accuracy: 0.8359 - val_loss: 0.8882 - val_accuracy: 0.6939\n",
      "Epoch 22/45\n",
      "4/4 [==============================] - 1s 246ms/step - loss: 0.5646 - accuracy: 0.8282 - val_loss: 0.9270 - val_accuracy: 0.6735\n",
      "Epoch 23/45\n",
      "4/4 [==============================] - 1s 191ms/step - loss: 0.5377 - accuracy: 0.8154 - val_loss: 0.8503 - val_accuracy: 0.7041\n",
      "Epoch 24/45\n",
      "4/4 [==============================] - 1s 219ms/step - loss: 0.4707 - accuracy: 0.8692 - val_loss: 0.8078 - val_accuracy: 0.6837\n",
      "Epoch 25/45\n",
      "4/4 [==============================] - 1s 215ms/step - loss: 0.4605 - accuracy: 0.8949 - val_loss: 0.7588 - val_accuracy: 0.7347\n",
      "Epoch 26/45\n",
      "4/4 [==============================] - 1s 212ms/step - loss: 0.3792 - accuracy: 0.9179 - val_loss: 0.7678 - val_accuracy: 0.7755\n",
      "Epoch 27/45\n",
      "4/4 [==============================] - 1s 214ms/step - loss: 0.3755 - accuracy: 0.9026 - val_loss: 0.7188 - val_accuracy: 0.7857\n",
      "Epoch 28/45\n",
      "4/4 [==============================] - 1s 201ms/step - loss: 0.3490 - accuracy: 0.8872 - val_loss: 0.7583 - val_accuracy: 0.7245\n",
      "Epoch 29/45\n",
      "4/4 [==============================] - 1s 203ms/step - loss: 0.3068 - accuracy: 0.9128 - val_loss: 0.7466 - val_accuracy: 0.7449\n",
      "Epoch 30/45\n",
      "4/4 [==============================] - 1s 192ms/step - loss: 0.2993 - accuracy: 0.9077 - val_loss: 0.7553 - val_accuracy: 0.7551\n",
      "Epoch 31/45\n",
      "4/4 [==============================] - 1s 190ms/step - loss: 0.2362 - accuracy: 0.9487 - val_loss: 0.7425 - val_accuracy: 0.7347\n",
      "Epoch 32/45\n",
      "4/4 [==============================] - 1s 199ms/step - loss: 0.2532 - accuracy: 0.9282 - val_loss: 0.6843 - val_accuracy: 0.7347\n",
      "Epoch 33/45\n",
      "4/4 [==============================] - 1s 204ms/step - loss: 0.2329 - accuracy: 0.9410 - val_loss: 0.8378 - val_accuracy: 0.7143\n",
      "Epoch 34/45\n",
      "4/4 [==============================] - 1s 223ms/step - loss: 0.2897 - accuracy: 0.9154 - val_loss: 0.7073 - val_accuracy: 0.7449\n",
      "Epoch 35/45\n",
      "4/4 [==============================] - 1s 208ms/step - loss: 0.1864 - accuracy: 0.9513 - val_loss: 0.7881 - val_accuracy: 0.7041\n",
      "Epoch 36/45\n",
      "4/4 [==============================] - 1s 238ms/step - loss: 0.1984 - accuracy: 0.9513 - val_loss: 0.7344 - val_accuracy: 0.7449\n",
      "Epoch 37/45\n",
      "4/4 [==============================] - 1s 222ms/step - loss: 0.1711 - accuracy: 0.9667 - val_loss: 0.6474 - val_accuracy: 0.7755\n",
      "Epoch 38/45\n",
      "4/4 [==============================] - 1s 218ms/step - loss: 0.1919 - accuracy: 0.9462 - val_loss: 0.7051 - val_accuracy: 0.7551\n",
      "Epoch 39/45\n",
      "4/4 [==============================] - 1s 201ms/step - loss: 0.1941 - accuracy: 0.9513 - val_loss: 0.7113 - val_accuracy: 0.7755\n",
      "Epoch 40/45\n",
      "4/4 [==============================] - 1s 222ms/step - loss: 0.1714 - accuracy: 0.9667 - val_loss: 0.6677 - val_accuracy: 0.7857\n",
      "Epoch 41/45\n",
      "4/4 [==============================] - 1s 195ms/step - loss: 0.1545 - accuracy: 0.9590 - val_loss: 0.6213 - val_accuracy: 0.7959\n",
      "Epoch 42/45\n",
      "4/4 [==============================] - 1s 189ms/step - loss: 0.1416 - accuracy: 0.9641 - val_loss: 0.6015 - val_accuracy: 0.8367\n",
      "Epoch 43/45\n",
      "4/4 [==============================] - 1s 191ms/step - loss: 0.1079 - accuracy: 0.9872 - val_loss: 0.6106 - val_accuracy: 0.7857\n",
      "Epoch 44/45\n",
      "4/4 [==============================] - 1s 197ms/step - loss: 0.1160 - accuracy: 0.9769 - val_loss: 0.6665 - val_accuracy: 0.7857\n",
      "Epoch 45/45\n",
      "4/4 [==============================] - 1s 193ms/step - loss: 0.1077 - accuracy: 0.9897 - val_loss: 0.6737 - val_accuracy: 0.7857\n",
      "Test loss: 0.6737087965011597\n",
      "Test accuracy: 0.7857142686843872\n"
     ]
    }
   ],
   "source": [
    "batch_size = 128\n",
    "num_classes = 9\n",
    "epochs = 45\n",
    "\n",
    "# input image dimensions\n",
    "img_rows, img_cols = 28, 28\n",
    "\n",
    "DATADIR = \"DigitImages\"\n",
    "CATEGORIES = [\"1\",\"2\",\"3\",\"4\",\"5\",\"6\",\"7\",\"8\",\"9\"]\n",
    "\n",
    "training_data = []\n",
    "\n",
    "createTrainingData()\n",
    "\n",
    "# Mix data up\n",
    "random.shuffle(training_data)\n",
    "\n",
    "# Split 80-20\n",
    "x_train = []\n",
    "y_train = []\n",
    "x_test = []\n",
    "y_test = []\n",
    "for i in range(len(training_data)*8//10):\n",
    "    x_train.append(training_data[i][0])\n",
    "    y_train.append(training_data[i][1])\n",
    "for i in range(len(training_data)*8//10,len(training_data)):\n",
    "    x_test.append(training_data[i][0])\n",
    "    y_test.append(training_data[i][1])\n",
    "\n",
    "# Reshape\n",
    "x_train = numpy.array(x_train)\n",
    "x_train = x_train.reshape(x_train.shape[0], img_rows, img_cols, 1)\n",
    "x_test = numpy.array(x_test)\n",
    "x_test = x_test.reshape(x_test.shape[0], img_rows, img_cols, 1)\n",
    "input_shape = (img_rows, img_cols, 1)\n",
    "\n",
    "x_train = x_train.astype('float32')\n",
    "x_test = x_test.astype('float32')\n",
    "\n",
    "# Normalize the data\n",
    "x_train /= 255\n",
    "x_test /= 255\n",
    "\n",
    "# convert class vectors to binary class matrices\n",
    "y_train = to_categorical(y_train, num_classes)\n",
    "y_test = to_categorical(y_test, num_classes)\n",
    "\n",
    "model = Sequential()\n",
    "model.add(Conv2D(32, kernel_size=(3, 3),activation='relu',input_shape=input_shape))\n",
    "model.add(Conv2D(64, (3, 3), activation='relu'))\n",
    "# model.add(Conv2D(128, (3, 3), activation='relu'))\n",
    "model.add(MaxPooling2D(pool_size=(2, 2)))\n",
    "model.add(Dropout(0.25))\n",
    "model.add(Flatten())\n",
    "model.add(Dense(128, activation='relu'))\n",
    "model.add(Dropout(0.25))\n",
    "model.add(Dense(num_classes, activation='softmax'))\n",
    "\n",
    "model.compile(loss=tf.keras.losses.categorical_crossentropy,optimizer=\"Adam\",metrics=['accuracy'])\n",
    "\n",
    "model.fit(x_train, y_train,batch_size=batch_size,epochs=epochs,verbose=1,validation_data=(x_test, y_test))\n",
    "\n",
    "score = model.evaluate(x_test, y_test, verbose=0)\n",
    "\n",
    "print('Test loss:', score[0])\n",
    "print('Test accuracy:', score[1])\n",
    "\n",
    "model.save_weights('digitRecognition.h5')"
   ]
  },
  {
   "cell_type": "code",
   "execution_count": null,
   "id": "901d6c04",
   "metadata": {},
   "outputs": [],
   "source": []
  },
  {
   "cell_type": "code",
   "execution_count": 7,
   "id": "460837a5",
   "metadata": {
    "scrolled": true
   },
   "outputs": [
    {
     "name": "stdout",
     "output_type": "stream",
     "text": [
      "Keys: <KeysViewHDF5 ['conv2d', 'conv2d_1', 'dense', 'dense_1', 'dropout', 'dropout_1', 'flatten', 'max_pooling2d', 'top_level_model_weights']>\n"
     ]
    }
   ],
   "source": [
    "import h5py \n",
    "#Open the H5 file in read mode\n",
    "with h5py.File('digitRecognition.h5', 'r') as file:\n",
    "    print(\"Keys: %s\" % file.keys())"
   ]
  },
  {
   "cell_type": "code",
   "execution_count": null,
   "id": "adf565be",
   "metadata": {},
   "outputs": [],
   "source": []
  },
  {
   "cell_type": "code",
   "execution_count": null,
   "id": "49bd3d53",
   "metadata": {},
   "outputs": [],
   "source": []
  },
  {
   "cell_type": "code",
   "execution_count": null,
   "id": "26b1cf93",
   "metadata": {},
   "outputs": [],
   "source": []
  }
 ],
 "metadata": {
  "kernelspec": {
   "display_name": "Python 3 (ipykernel)",
   "language": "python",
   "name": "python3"
  },
  "language_info": {
   "codemirror_mode": {
    "name": "ipython",
    "version": 3
   },
   "file_extension": ".py",
   "mimetype": "text/x-python",
   "name": "python",
   "nbconvert_exporter": "python",
   "pygments_lexer": "ipython3",
   "version": "3.11.1"
  }
 },
 "nbformat": 4,
 "nbformat_minor": 5
}
