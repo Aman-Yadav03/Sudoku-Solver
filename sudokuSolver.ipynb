{
 "cells": [
  {
   "cell_type": "markdown",
   "id": "561a31e7",
   "metadata": {},
   "source": [
    "## Define class SudokuCell"
   ]
  },
  {
   "cell_type": "raw",
   "id": "b9ddb7e0",
   "metadata": {},
   "source": [
    "SudokuCell class is used to store the row number, column number & the number of choices/possibilities of current cell in the Sudoku Board.\n",
    "The class is likely used to manage and track the potential numbers (choices) for each cell in a Sudoku grid, aiding in solving the puzzle."
   ]
  },
  {
   "cell_type": "code",
   "execution_count": 1,
   "id": "4177c8cd",
   "metadata": {},
   "outputs": [],
   "source": [
    "class SudokuCell:\n",
    "    def __init__(self, r, c, n):\n",
    "        self.row = r\n",
    "        self.col = c\n",
    "        self.choices = n\n",
    "\n",
    "    def set_data(self, r, c, n):\n",
    "        self.row = r\n",
    "        self.col = c\n",
    "        self.choices = n"
   ]
  },
  {
   "cell_type": "code",
   "execution_count": null,
   "id": "1eb6b401",
   "metadata": {},
   "outputs": [],
   "source": []
  },
  {
   "cell_type": "markdown",
   "id": "9e0aff5d",
   "metadata": {},
   "source": [
    "## Sudoku Solver Driver Function"
   ]
  },
  {
   "cell_type": "markdown",
   "id": "287cace6",
   "metadata": {},
   "source": [
    "This is the driver function to solve the Sudoku Puzzle using Best First Search.\n",
    "This code sets up the initial conditions for solving the Sudoku puzzle and validates that solving is possible before attempting to do so using recursion."
   ]
  },
  {
   "cell_type": "code",
   "execution_count": 2,
   "id": "6979d728",
   "metadata": {},
   "outputs": [],
   "source": [
    "def solveSudoku(matrix):\n",
    "    cont = [True]  #Control variable for recursion\n",
    "    \n",
    "    # See if it is even possible to have a solution\n",
    "    for i in range(9):\n",
    "        for j in range(9):\n",
    "            if not isPositionValid(matrix, i, j): # If it is not possible, stop\n",
    "                return\n",
    "    sudokuRecursive(matrix, cont) # Otherwise try to solve the Sudoku puzzle"
   ]
  },
  {
   "cell_type": "code",
   "execution_count": null,
   "id": "9fe28028",
   "metadata": {},
   "outputs": [],
   "source": []
  },
  {
   "cell_type": "markdown",
   "id": "7af3071c",
   "metadata": {},
   "source": [
    "## Recursive function to fill the positions"
   ]
  },
  {
   "cell_type": "markdown",
   "id": "abf0497c",
   "metadata": {},
   "source": [
    "This is a recursive helper function which uses Best First Search to fill positions in the Board"
   ]
  },
  {
   "cell_type": "code",
   "execution_count": 3,
   "id": "fe20873a",
   "metadata": {},
   "outputs": [],
   "source": [
    "def sudokuRecursive(matrix, cont):\n",
    "    if not cont[0]: # 1st termination point\n",
    "        return\n",
    "\n",
    "    # Find the best entry i.e. the one with the least no. of possibilities for filling\n",
    "    best_candidate = SudokuCell(-1, -1, 100)\n",
    "    for i in range(9):\n",
    "        for j in range(9):\n",
    "            if matrix[i][j] == 0: # If it is unfilled\n",
    "                num_choices = countRemainingChoices(matrix, i, j)\n",
    "                if best_candidate.choices > num_choices:\n",
    "                    best_candidate.set_data(i, j, num_choices)\n",
    "\n",
    "    # If didn't find any choices, it means...\n",
    "    if best_candidate.choices == 100: # This means Best-First Search is complete and Board is full. Note, whether we arrive at a solution or not depends on whether all Board is non-zero\n",
    "        cont[0] = False # Set the flag to stop recursive calls at \"termination points\"\n",
    "        return\n",
    "\n",
    "    row = best_candidate.row\n",
    "    col = best_candidate.col\n",
    "\n",
    "    # If found the best candidate, try to fill 1-9\n",
    "    for j in range(1, 10):\n",
    "        if not cont[0]: # 2nd termination point\n",
    "            return\n",
    "\n",
    "        matrix[row][col] = j\n",
    "\n",
    "        if isPositionValid(matrix, row, col):\n",
    "            sudokuRecursive(matrix, cont)\n",
    "\n",
    "    if not cont[0]: # 3rd termination point\n",
    "        return\n",
    "    matrix[row][col] = 0 # Backtrack, mark the current cell empty again"
   ]
  },
  {
   "cell_type": "code",
   "execution_count": null,
   "id": "1805e4d3",
   "metadata": {},
   "outputs": [],
   "source": []
  },
  {
   "cell_type": "markdown",
   "id": "50cbec9e",
   "metadata": {},
   "source": [
    "## Function to calculate remaining choices"
   ]
  },
  {
   "cell_type": "markdown",
   "id": "0c1f7d97",
   "metadata": {},
   "source": [
    "This function is used to count the number of remaining choices still possible"
   ]
  },
  {
   "cell_type": "code",
   "execution_count": 4,
   "id": "7029f0d8",
   "metadata": {},
   "outputs": [],
   "source": [
    "def countRemainingChoices(matrix, i, j):\n",
    "    can_pick = [True,True,True,True,True,True,True,True,True,True]; # From 0 to 9 - drop 0\n",
    "    \n",
    "    # Check row for remaining choices\n",
    "    for k in range(9):\n",
    "        can_pick[matrix[i][k]] = False\n",
    "\n",
    "    # Check column for remaining choices\n",
    "    for k in range(9):\n",
    "        can_pick[matrix[k][j]] = False;\n",
    "\n",
    "    # Check 3x3 square for remaining choices\n",
    "    r = i // 3\n",
    "    c = j // 3\n",
    "    for row in range(r*3, r*3+3):\n",
    "        for col in range(c*3, c*3+3):\n",
    "            can_pick[matrix[row][col]] = False\n",
    "\n",
    "    # Count total remaining choices\n",
    "    count = 0\n",
    "    for k in range(1, 10):  # 1 to 9\n",
    "        if can_pick[k]:\n",
    "            count += 1\n",
    "\n",
    "    return count"
   ]
  },
  {
   "cell_type": "code",
   "execution_count": null,
   "id": "55b7e2d7",
   "metadata": {},
   "outputs": [],
   "source": []
  },
  {
   "cell_type": "markdown",
   "id": "00502190",
   "metadata": {},
   "source": [
    "## Function to check if all positions are filled"
   ]
  },
  {
   "cell_type": "markdown",
   "id": "2d18948a",
   "metadata": {},
   "source": [
    "This function will return True if the whole Sudoku board has been occupied by some non-zero number. \n",
    "If this happens, then the current board is the solution to the original Sudoku"
   ]
  },
  {
   "cell_type": "code",
   "execution_count": 5,
   "id": "9228011f",
   "metadata": {},
   "outputs": [],
   "source": [
    "def allPositionsFilled(matrix):\n",
    "    for i in range(9):\n",
    "        for j in range(9):\n",
    "            if matrix[i][j] == 0:\n",
    "                return False\n",
    "    return True"
   ]
  },
  {
   "cell_type": "code",
   "execution_count": null,
   "id": "3d02b7ca",
   "metadata": {},
   "outputs": [],
   "source": []
  },
  {
   "cell_type": "markdown",
   "id": "9030e0dc",
   "metadata": {},
   "source": [
    "## Function to check if position is valid"
   ]
  },
  {
   "cell_type": "markdown",
   "id": "b518bf73",
   "metadata": {},
   "source": [
    "This function will return True if digit placed in the current cell doesn't create any violation"
   ]
  },
  {
   "cell_type": "code",
   "execution_count": 6,
   "id": "ba4bf122",
   "metadata": {},
   "outputs": [],
   "source": [
    "def isPositionValid(matrix, row, col):\n",
    "    \n",
    "    # Check if digit already present in row\n",
    "    for c in range(9):\n",
    "        if matrix[row][col] != 0 and col != c and matrix[row][col] == matrix[row][c]:\n",
    "            return False\n",
    "\n",
    "    # Check if digit already present in column\n",
    "    for r in range(9):\n",
    "        if matrix[row][col] != 0 and row != r and matrix[row][col] == matrix[r][col]:\n",
    "            return False\n",
    "\n",
    "    # Check if digit already present in 3x3 square\n",
    "    r = row // 3\n",
    "    c = col // 3\n",
    "    for i in range(r*3, r*3+3):\n",
    "        for j in range(c*3, c*3+3):\n",
    "            if row != i and col != j and matrix[i][j] != 0 and matrix[i][j] == matrix[row][col]:\n",
    "                return False\n",
    "    \n",
    "    # If all checks are valid then return True\n",
    "    return True"
   ]
  },
  {
   "cell_type": "code",
   "execution_count": null,
   "id": "9a46a625",
   "metadata": {},
   "outputs": [],
   "source": []
  },
  {
   "cell_type": "code",
   "execution_count": null,
   "id": "57bcc318",
   "metadata": {},
   "outputs": [],
   "source": []
  },
  {
   "cell_type": "code",
   "execution_count": null,
   "id": "bbdff41d",
   "metadata": {},
   "outputs": [],
   "source": []
  }
 ],
 "metadata": {
  "kernelspec": {
   "display_name": "Python 3 (ipykernel)",
   "language": "python",
   "name": "python3"
  },
  "language_info": {
   "codemirror_mode": {
    "name": "ipython",
    "version": 3
   },
   "file_extension": ".py",
   "mimetype": "text/x-python",
   "name": "python",
   "nbconvert_exporter": "python",
   "pygments_lexer": "ipython3",
   "version": "3.11.1"
  }
 },
 "nbformat": 4,
 "nbformat_minor": 5
}
