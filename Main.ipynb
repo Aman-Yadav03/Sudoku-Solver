{
 "cells": [
  {
   "cell_type": "markdown",
   "id": "337d2c0b",
   "metadata": {},
   "source": [
    "## Import Required Libraries"
   ]
  },
  {
   "cell_type": "code",
   "execution_count": null,
   "id": "a214e6e1",
   "metadata": {},
   "outputs": [],
   "source": [
    "#Neural Network modules\n",
    "from tensorflow.keras.models import Sequential\n",
    "from tensorflow.keras.layers import Dense, Dropout, Flatten, Conv2D, MaxPooling2D\n",
    "\n",
    "import cv2                         #Standard library for solving computer vision\n",
    "import copy                        #Required for deep copy\n",
    "import import_ipynb                #For importing other ipynb files\n",
    "import math                        #Standard library for mathematical tasks\n",
    "from scipy import ndimage          #Library for multidimensional image processing\n",
    "\n",
    "%run RealTimeSudokuSolver.ipynb    #Run RealTimeSudokuSolver\n",
    "%run sudokuSolver.ipynb            #Run sudokuSolver\n",
    "\n",
    "import sudokuSolver                #To call detectAndSolveSudoku"
   ]
  },
  {
   "cell_type": "code",
   "execution_count": null,
   "id": "a23eee6e",
   "metadata": {},
   "outputs": [],
   "source": []
  },
  {
   "cell_type": "markdown",
   "id": "828e2aa5",
   "metadata": {},
   "source": [
    "## Load and set Camera"
   ]
  },
  {
   "cell_type": "code",
   "execution_count": null,
   "id": "4144c6d1",
   "metadata": {},
   "outputs": [],
   "source": [
    "cap = cv2.VideoCapture(0, cv2.CAP_DSHOW)\n",
    "cap.set(3, 1280)    # HD Camera\n",
    "cap.set(4, 720)"
   ]
  },
  {
   "cell_type": "code",
   "execution_count": null,
   "id": "30033b4b",
   "metadata": {},
   "outputs": [],
   "source": []
  },
  {
   "cell_type": "markdown",
   "id": "4bc5fe80",
   "metadata": {},
   "source": [
    "## Create and build CNN"
   ]
  },
  {
   "cell_type": "code",
   "execution_count": null,
   "id": "50da9a08",
   "metadata": {},
   "outputs": [],
   "source": [
    "input_shape = (28, 28, 1)\n",
    "num_classes = 9\n",
    "\n",
    "# Initialising the CNN\n",
    "model = Sequential()\n",
    "\n",
    "# Add First Convolution Layer\n",
    "model.add(Conv2D(32, kernel_size=(3, 3),activation='relu',input_shape=input_shape))\n",
    "\n",
    "# Add Second Convolution Layer\n",
    "model.add(Conv2D(64, kernel_size=(3, 3), activation='relu'))\n",
    "\n",
    "# MaxPooling\n",
    "model.add(MaxPooling2D(pool_size=(2, 2)))\n",
    "\n",
    "# 25% Dropout\n",
    "model.add(Dropout(0.25))\n",
    "\n",
    "#Flatenning\n",
    "model.add(Flatten())\n",
    "\n",
    "#Full Connection\n",
    "model.add(Dense(128, activation='relu'))\n",
    "\n",
    "# 50% Dropout\n",
    "model.add(Dropout(0.5))\n",
    "\n",
    "# Output Layer\n",
    "model.add(Dense(num_classes, activation='softmax'))\n",
    "\n",
    "# Load weights from pre-trained model. This model is trained using digitRecognition.ipynb in directory CNN Digit Training\n",
    "model.load_weights(\"Digit Training/digitRecognition.h5\")   "
   ]
  },
  {
   "cell_type": "code",
   "execution_count": null,
   "id": "8a686f62",
   "metadata": {},
   "outputs": [],
   "source": []
  },
  {
   "cell_type": "markdown",
   "id": "affde744",
   "metadata": {},
   "source": [
    "## Start Video Capturing"
   ]
  },
  {
   "cell_type": "code",
   "execution_count": null,
   "id": "3097d3e5",
   "metadata": {},
   "outputs": [],
   "source": [
    "previousFrameSudoku = None # Used to compare new sudoku or old sudoku\n",
    "\n",
    "while(True):\n",
    "    ret, frame = cap.read() # Read the frame\n",
    "    if ret == True:\n",
    "        \n",
    "        # RealTimeSudokuSolver.detectAndSolveSudoku\n",
    "        sudoku_frame = detectAndSolveSudoku(frame, model, previousFrameSudoku) \n",
    "        showImage(sudoku_frame, \"Real Time Sudoku Solver\", 1066, 600)\n",
    "        if cv2.waitKey(1) == ord('q'):   # Hit q if you want to stop the camera\n",
    "            break\n",
    "    else:\n",
    "        break\n",
    "\n",
    "cap.release()\n",
    "cv2.destroyAllWindows()"
   ]
  },
  {
   "cell_type": "code",
   "execution_count": null,
   "id": "fd6c160b",
   "metadata": {},
   "outputs": [],
   "source": []
  },
  {
   "cell_type": "code",
   "execution_count": null,
   "id": "ba476ebe",
   "metadata": {},
   "outputs": [],
   "source": [
    "# import cv2\n",
    "\n",
    "# # Start video capture\n",
    "# cap = cv2.VideoCapture(0)  # 0 is usually the default camera\n",
    "\n",
    "# while True:\n",
    "#     # Capture frame-by-frame\n",
    "#     ret, frame = cap.read()\n",
    "\n",
    "#     # Display the resulting frame\n",
    "#     cv2.imshow('frame', frame)\n",
    "\n",
    "#     # Break the loop on 'q' key press\n",
    "#     if cv2.waitKey(1) & 0xFF == ord('q'):\n",
    "#         break\n",
    "\n",
    "# # When everything is done, release the capture\n",
    "# cap.release()\n",
    "# cv2.destroyAllWindows()\n"
   ]
  },
  {
   "cell_type": "code",
   "execution_count": null,
   "id": "7b49016c",
   "metadata": {},
   "outputs": [],
   "source": []
  }
 ],
 "metadata": {
  "kernelspec": {
   "display_name": "Python 3 (ipykernel)",
   "language": "python",
   "name": "python3"
  },
  "language_info": {
   "codemirror_mode": {
    "name": "ipython",
    "version": 3
   },
   "file_extension": ".py",
   "mimetype": "text/x-python",
   "name": "python",
   "nbconvert_exporter": "python",
   "pygments_lexer": "ipython3",
   "version": "3.11.1"
  }
 },
 "nbformat": 4,
 "nbformat_minor": 5
}
